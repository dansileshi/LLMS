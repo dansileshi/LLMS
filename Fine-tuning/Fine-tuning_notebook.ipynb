{
 "cells": [
  {
   "cell_type": "markdown",
   "metadata": {
    "id": "2AqPte8bet51"
   },
   "source": [
    "# Welcome To The Notebook"
   ]
  },
  {
   "cell_type": "markdown",
   "metadata": {},
   "source": [
    "# Fine-Tuning GPT-3.5 for Advanced Complaint Analysis at PulseNet\n",
    "\n",
    "## Introduction\n",
    "This notebook outlines the steps for fine-tuning the OpenAI GPT-3.5 model to enhance complaint analysis for PulseNet, a leading telecommunications provider. The model will be trained to extract specific details from customer complaints, including the topic, problem description, and a customer dissatisfaction index, which quantifies the severity of the complaint on a scale from 0 to 100.\n",
    "\n",
    "## Objective\n",
    "Develop a tailored Large Language Model (LLM) using the OpenAI GPT-3.5 to process and analyze customer complaints efficiently, facilitating quicker resolutions and improving customer satisfaction.\n",
    "\n",
    "## Data\n",
    "PulseNet has provided a dataset of the latest 50 customer complaints. Each entry is annotated with:\n",
    "- **Topic**: The general subject of the complaint (e.g., billing, service outage).\n",
    "- **Problem Description**: Detailed description of the issue.\n",
    "- **Customer Dissatisfaction Index**: A numerical value between 0 and 100, representing the level of customer anger.\n",
    "\n",
    "## Steps for Fine-Tuning\n",
    "### 1. Data Preparation\n",
    "- **Loading and Inspecting Data**: Load the dataset and explore its structure and contents.\n",
    "- **Preprocessing**: Clean and prepare the data for model training, including tokenization and encoding.\n",
    "\n",
    "### 2. Model Setup\n",
    "- **Choosing the Model**: Set up the base GPT-3.5 model configuration suitable for fine-tuning.\n",
    "- **Defining Parameters**: Establish fine-tuning parameters such as learning rate, batch size, and number of epochs.\n",
    "\n",
    "### 3. Fine-Tuning Process\n",
    "- **Training**: Implement the training loop, feeding the preprocessed data into the model.\n",
    "- **Monitoring**: Track the training progress and model performance using metrics appropriate for the task.\n",
    "\n",
    "### 4. Model Evaluation\n",
    "- **Validation**: Evaluate the model on a separate validation set to ensure it generalizes well.\n",
    "- **Performance Metrics**: Analyze the model's ability to extract the required information accurately.\n",
    "\n"
   ]
  },
  {
   "cell_type": "markdown",
   "metadata": {
    "id": "1Rp80dTGpsDD"
   },
   "source": [
    "### Step 1 - Set up the project environment"
   ]
  },
  {
   "cell_type": "code",
   "execution_count": 1,
   "metadata": {
    "id": "lx4wV2MIUJ8A"
   },
   "outputs": [],
   "source": [
    "#!pip install openai==1.7.2 python-dotenv\n",
    "#!pip install python-dotenv\n"
   ]
  },
  {
   "cell_type": "markdown",
   "metadata": {
    "id": "qypdUNULptjB"
   },
   "source": [
    "Importing modules"
   ]
  },
  {
   "cell_type": "code",
   "execution_count": 2,
   "metadata": {
    "id": "YFmEp0r5T2eI"
   },
   "outputs": [],
   "source": [
    "import pandas as pd\n",
    "import os, time\n",
    "from openai import OpenAI\n",
    "from dotenv import load_dotenv\n",
    "import json\n",
    "import matplotlib.pyplot as plt\n",
    "\n"
   ]
  },
  {
   "cell_type": "markdown",
   "metadata": {
    "id": "XfVAcV_XqDja"
   },
   "source": [
    "Setting up the OpenAI API:\n",
    "\n",
    "* Prepare a .env file to store the OpenAI API key.\n",
    "* Uploading the .env file to our colab environment\n",
    "* Load the API key and setup the API"
   ]
  },
  {
   "cell_type": "code",
   "execution_count": 3,
   "metadata": {
    "id": "rbXC4QM4qCBe"
   },
   "outputs": [
    {
     "name": "stdout",
     "output_type": "stream",
     "text": [
      "API Key: sk-proj-o02EpdGtOKMjYQ6hNAYRT3BlbkFJIXCifdAyLrePWCvXIHJf\n"
     ]
    }
   ],
   "source": [
    "from dotenv import load_dotenv\n",
    "import os\n",
    "\n",
    "#load_dotenv()\n",
    "dotenv_path = 'apikey.env'\n",
    "load_dotenv(dotenv_path)\n",
    "\n",
    "api_key = os.getenv('APIKEY')\n",
    "\n",
    "print(\"API Key:\", api_key)\n"
   ]
  },
  {
   "cell_type": "markdown",
   "metadata": {
    "id": "rWxipGQIpxH8"
   },
   "source": [
    "Creating OpenAI Client"
   ]
  },
  {
   "cell_type": "code",
   "execution_count": 4,
   "metadata": {
    "id": "nHj-RaA5p0WE"
   },
   "outputs": [
    {
     "data": {
      "text/plain": [
       "<openai.OpenAI at 0x2561ea2d1f0>"
      ]
     },
     "execution_count": 4,
     "metadata": {},
     "output_type": "execute_result"
    }
   ],
   "source": [
    "client = OpenAI(\n",
    "    api_key = api_key\n",
    ")\n",
    "client"
   ]
  },
  {
   "cell_type": "markdown",
   "metadata": {
    "id": "0r2XnfwnqTCK"
   },
   "source": [
    "### Step 2 - Prepare the training data"
   ]
  },
  {
   "cell_type": "markdown",
   "metadata": {
    "id": "-_Alc-CyuHmE"
   },
   "source": [
    "Loading the provided `Customer Complaints.csv`\n",
    "\n"
   ]
  },
  {
   "cell_type": "code",
   "execution_count": 5,
   "metadata": {
    "id": "jan2OKk5qW1J",
    "scrolled": true
   },
   "outputs": [
    {
     "data": {
      "text/html": [
       "<div>\n",
       "<style scoped>\n",
       "    .dataframe tbody tr th:only-of-type {\n",
       "        vertical-align: middle;\n",
       "    }\n",
       "\n",
       "    .dataframe tbody tr th {\n",
       "        vertical-align: top;\n",
       "    }\n",
       "\n",
       "    .dataframe thead th {\n",
       "        text-align: right;\n",
       "    }\n",
       "</style>\n",
       "<table border=\"1\" class=\"dataframe\">\n",
       "  <thead>\n",
       "    <tr style=\"text-align: right;\">\n",
       "      <th></th>\n",
       "      <th>Complaints</th>\n",
       "      <th>Details</th>\n",
       "    </tr>\n",
       "  </thead>\n",
       "  <tbody>\n",
       "    <tr>\n",
       "      <th>54</th>\n",
       "      <td>I hate this!</td>\n",
       "      <td>{\"Topic\": \"PulseNet General\", \"Problem\": \"Gene...</td>\n",
       "    </tr>\n",
       "    <tr>\n",
       "      <th>62</th>\n",
       "      <td>Poor call quality during international calls! ...</td>\n",
       "      <td>{\"Topic\": \"Phone\", \"Problem\": \"Poor call quali...</td>\n",
       "    </tr>\n",
       "    <tr>\n",
       "      <th>50</th>\n",
       "      <td>Overpriced packages with poor service quality...</td>\n",
       "      <td>{\"Topic\": \"Billing\", \"Problem\": \"Overpriced pa...</td>\n",
       "    </tr>\n",
       "    <tr>\n",
       "      <th>63</th>\n",
       "      <td>Incorrect charges on my bill every month! Unre...</td>\n",
       "      <td>{\"Topic\": \"Billing\", \"Problem\": \"Incorrect cha...</td>\n",
       "    </tr>\n",
       "    <tr>\n",
       "      <th>19</th>\n",
       "      <td>Phone service blackout during emergencies! Da...</td>\n",
       "      <td>{\"Topic\": \"Phone\", \"Problem\": \"Blackout during...</td>\n",
       "    </tr>\n",
       "  </tbody>\n",
       "</table>\n",
       "</div>"
      ],
      "text/plain": [
       "                                           Complaints  \\\n",
       "54                                       I hate this!   \n",
       "62  Poor call quality during international calls! ...   \n",
       "50   Overpriced packages with poor service quality...   \n",
       "63  Incorrect charges on my bill every month! Unre...   \n",
       "19   Phone service blackout during emergencies! Da...   \n",
       "\n",
       "                                              Details  \n",
       "54  {\"Topic\": \"PulseNet General\", \"Problem\": \"Gene...  \n",
       "62  {\"Topic\": \"Phone\", \"Problem\": \"Poor call quali...  \n",
       "50  {\"Topic\": \"Billing\", \"Problem\": \"Overpriced pa...  \n",
       "63  {\"Topic\": \"Billing\", \"Problem\": \"Incorrect cha...  \n",
       "19  {\"Topic\": \"Phone\", \"Problem\": \"Blackout during...  "
      ]
     },
     "execution_count": 5,
     "metadata": {},
     "output_type": "execute_result"
    }
   ],
   "source": [
    "data =  pd.read_csv(\"Customer Complaints.csv\")\n",
    "data.sample(5)"
   ]
  },
  {
   "cell_type": "markdown",
   "metadata": {
    "id": "uIK863G-qvMN"
   },
   "source": [
    "**Converting the Complaints records to json**\n",
    "\n",
    "To be able to use the data for the fine-tuning purpose, we first need to convert each row of the dataframe into the following format:\n",
    "\n",
    "<pre>\n",
    "<code>\n",
    "{\n",
    "  <span style=\"color: blue;\">\"messages\"</span>: [\n",
    "    {\n",
    "      <span style=\"color: blue;\">\"role\"</span>: <span style=\"color: red;\">\"system\"</span>,\n",
    "      <span style=\"color: blue;\">\"content\"</span>: \"<span style=\"color: green;\">Providing context about the user's prompt.\n",
    "                  It may include information about the task,\n",
    "                  instructions, or background details relevant\n",
    "                  to the conversation.</span>\"\n",
    "    },\n",
    "    {\n",
    "      <span style=\"color: blue;\">\"role\"</span>: <span style=\"color: red;\">\"user\"</span>,\n",
    "      <span style=\"color: blue;\">\"content\"</span>: \"<span style=\"color: green;\">the prompt or input provided by the user,\n",
    "                  which typically initiates the conversation with the assistant.</span>\"\n",
    "    },\n",
    "    {\n",
    "      <span style=\"color: blue;\">\"role\"</span>: <span style=\"color: red;\">\"assistant\"</span>,\n",
    "      <span style=\"color: blue;\">\"content\"</span>: \"<span style=\"color: green;\">The desired response or output generated by\n",
    "                  the assistant in response to the user's prompt.</span>\"\n",
    "    }\n",
    "  ]\n",
    "}\n",
    "</code>\n",
    "</pre>\n",
    "\n"
   ]
  },
  {
   "cell_type": "markdown",
   "metadata": {
    "id": "fWVCfuvRjdXa"
   },
   "source": [
    "Let's define a method that get's a row of the dataframe and convert it into the json format"
   ]
  },
  {
   "cell_type": "code",
   "execution_count": 6,
   "metadata": {
    "id": "-tHnvRamq5NK"
   },
   "outputs": [],
   "source": [
    "def save_to_json(row):\n",
    "\n",
    "  system_content = \"\"\"\n",
    "      Given a customer complaint text, extract and return the following information in json (dict) format:\n",
    "      - Topic: The product/department that the customer has a complaint about.\n",
    "      - Problem: A two or three-word description of what exactly the problem is.\n",
    "      - Customer_Dissatisfaction_Index: is a number between 0 and 100 showing\n",
    "             how angry the customer is about the problem.\n",
    "  \"\"\"\n",
    "\n",
    "  formatted_data = {\n",
    "        \"messages\": [\n",
    "            {\"role\": \"system\", \"content\": system_content},\n",
    "            {\"role\": \"user\", \"content\": row.Complaints},\n",
    "            {\"role\": \"assistant\", \"content\": row.Details}\n",
    "        ]\n",
    "      }\n",
    "\n",
    "  with open(\"training_data.json\", \"a\") as json_file:\n",
    "        json.dump(formatted_data, json_file)\n",
    "        json_file.write(\"\\n\")"
   ]
  },
  {
   "cell_type": "markdown",
   "metadata": {
    "id": "K3haPgzI-ClF"
   },
   "source": [
    "Now let's use of this method to generate the `training_data.json`"
   ]
  },
  {
   "cell_type": "code",
   "execution_count": 7,
   "metadata": {
    "id": "LNOMxwSX8dE4"
   },
   "outputs": [],
   "source": [
    "for index, row in data.iterrows():\n",
    "    save_to_json(row)"
   ]
  },
  {
   "cell_type": "markdown",
   "metadata": {
    "id": "Jo9HFdW0jput"
   },
   "source": [
    "### Step 3 - Fine-tune GPT 3.5 based on our training data"
   ]
  },
  {
   "cell_type": "markdown",
   "metadata": {
    "id": "h4TMhzSNj4hH"
   },
   "source": [
    "Let's import the json file we prepared as our training data"
   ]
  },
  {
   "cell_type": "code",
   "execution_count": 8,
   "metadata": {
    "id": "ExJ2cRU5-XtH"
   },
   "outputs": [
    {
     "data": {
      "text/plain": [
       "FileObject(id='file-ehf4FmczXvMFnWzTS0jb74T7', bytes=561468, created_at=1713998933, filename='training_data.json', object='file', purpose='fine-tune', status='processed', status_details=None)"
      ]
     },
     "execution_count": 8,
     "metadata": {},
     "output_type": "execute_result"
    }
   ],
   "source": [
    "data_file =  client.files.create(\n",
    "    file = open('training_data.json', 'rb'),\n",
    "    purpose = \"fine-tune\"\n",
    ")\n",
    "data_file"
   ]
  },
  {
   "cell_type": "markdown",
   "metadata": {
    "id": "TiBcO3I0kIU5"
   },
   "source": [
    "Create the Fine Tuning Job"
   ]
  },
  {
   "cell_type": "code",
   "execution_count": 9,
   "metadata": {
    "id": "BXJB348zkMSx"
   },
   "outputs": [
    {
     "data": {
      "text/plain": [
       "FineTuningJob(id='ftjob-duXLSMWJNdWcuUO9DsWY8oox', created_at=1713998935, error=Error(code=None, message=None, param=None), fine_tuned_model=None, finished_at=None, hyperparameters=Hyperparameters(n_epochs=1, batch_size='auto', learning_rate_multiplier='auto'), model='gpt-3.5-turbo-0125', object='fine_tuning.job', organization_id='org-YbesHSOn3aPRtwCjNIX77i4C', result_files=[], status='validating_files', trained_tokens=None, training_file='file-ehf4FmczXvMFnWzTS0jb74T7', validation_file=None, user_provided_suffix=None, seed=718647022, estimated_finish=None, integrations=[])"
      ]
     },
     "execution_count": 9,
     "metadata": {},
     "output_type": "execute_result"
    }
   ],
   "source": [
    "fine_tuning_job = client.fine_tuning.jobs.create(\n",
    "    training_file = data_file.id,\n",
    "    model = \"gpt-3.5-turbo\",\n",
    "    hyperparameters = {\n",
    "        \"n_epochs\": 1\n",
    "    }\n",
    "    )\n",
    "fine_tuning_job"
   ]
  },
  {
   "cell_type": "markdown",
   "metadata": {
    "id": "u7XWcO_7kzY6"
   },
   "source": [
    "Let's retrieve the state of the fine-tune"
   ]
  },
  {
   "cell_type": "code",
   "execution_count": 29,
   "metadata": {
    "id": "hpbHjWu3AS4k"
   },
   "outputs": [
    {
     "name": "stdout",
     "output_type": "stream",
     "text": [
      "succeeded\n"
     ]
    }
   ],
   "source": [
    "retrieved_job = client.fine_tuning.jobs.retrieve(fine_tuning_job.id)\n",
    "status = (retrieved_job.status)\n",
    "print(status)"
   ]
  },
  {
   "cell_type": "markdown",
   "metadata": {
    "id": "4XB-sFc3kO4A"
   },
   "source": [
    "### Step 4 - Evaluate model"
   ]
  },
  {
   "cell_type": "markdown",
   "metadata": {
    "id": "p_3bNsW3k_eR"
   },
   "source": [
    "Let's retrieve the event messages to check out the learning process of our fine-tuning job."
   ]
  },
  {
   "cell_type": "code",
   "execution_count": 30,
   "metadata": {
    "id": "O2bif68aIEGJ",
    "scrolled": true
   },
   "outputs": [
    {
     "name": "stdout",
     "output_type": "stream",
     "text": [
      "The job has successfully completed\n",
      "New fine-tuned model created: ft:gpt-3.5-turbo-0125:personal::9HgKBj6D\n",
      "Step 804/804: training loss=0.00\n",
      "Step 803/804: training loss=0.00\n",
      "Step 802/804: training loss=0.00\n",
      "Step 801/804: training loss=0.00\n",
      "Step 800/804: training loss=0.00\n",
      "Step 799/804: training loss=0.00\n",
      "Step 798/804: training loss=0.00\n",
      "Step 797/804: training loss=0.00\n",
      "Step 796/804: training loss=0.00\n",
      "Step 795/804: training loss=0.00\n",
      "Step 794/804: training loss=0.00\n",
      "Step 793/804: training loss=0.00\n",
      "Step 792/804: training loss=0.00\n",
      "Step 791/804: training loss=0.00\n",
      "Step 790/804: training loss=0.00\n",
      "Step 789/804: training loss=0.00\n",
      "Step 788/804: training loss=0.00\n",
      "Step 787/804: training loss=0.00\n",
      "Step 786/804: training loss=0.00\n",
      "Step 785/804: training loss=0.00\n",
      "Step 784/804: training loss=0.00\n",
      "Step 783/804: training loss=0.00\n",
      "Step 782/804: training loss=0.00\n",
      "Step 781/804: training loss=0.00\n",
      "Step 780/804: training loss=0.00\n",
      "Step 779/804: training loss=0.00\n",
      "Step 778/804: training loss=0.00\n",
      "Step 777/804: training loss=0.00\n",
      "Step 776/804: training loss=0.00\n",
      "Step 775/804: training loss=0.00\n",
      "Step 774/804: training loss=0.00\n",
      "Step 773/804: training loss=0.00\n",
      "Step 772/804: training loss=0.00\n",
      "Step 771/804: training loss=0.00\n",
      "Step 770/804: training loss=0.00\n",
      "Step 769/804: training loss=0.00\n",
      "Step 768/804: training loss=0.00\n",
      "Step 767/804: training loss=0.00\n",
      "Step 766/804: training loss=0.00\n",
      "Step 765/804: training loss=0.00\n",
      "Step 764/804: training loss=0.00\n",
      "Step 763/804: training loss=0.00\n",
      "Step 762/804: training loss=0.00\n",
      "Step 761/804: training loss=0.00\n",
      "Step 760/804: training loss=0.00\n",
      "Step 759/804: training loss=0.00\n",
      "Step 758/804: training loss=0.00\n",
      "Step 757/804: training loss=0.00\n",
      "Step 756/804: training loss=0.00\n",
      "Step 755/804: training loss=0.00\n",
      "Step 754/804: training loss=0.00\n",
      "Step 753/804: training loss=0.00\n",
      "Step 752/804: training loss=0.00\n",
      "Step 751/804: training loss=0.00\n",
      "Step 750/804: training loss=0.00\n",
      "Step 749/804: training loss=0.00\n",
      "Step 748/804: training loss=0.00\n",
      "Step 747/804: training loss=0.00\n",
      "Step 746/804: training loss=0.01\n",
      "Step 745/804: training loss=0.00\n",
      "Step 744/804: training loss=0.00\n",
      "Step 743/804: training loss=0.00\n",
      "Step 742/804: training loss=0.00\n",
      "Step 741/804: training loss=0.00\n",
      "Step 740/804: training loss=0.00\n",
      "Step 739/804: training loss=0.00\n",
      "Step 738/804: training loss=0.00\n",
      "Step 737/804: training loss=0.00\n",
      "Step 736/804: training loss=0.00\n",
      "Step 735/804: training loss=0.00\n",
      "Step 734/804: training loss=0.00\n",
      "Step 733/804: training loss=0.00\n",
      "Step 732/804: training loss=0.00\n",
      "Step 731/804: training loss=0.00\n",
      "Step 730/804: training loss=0.00\n",
      "Step 729/804: training loss=0.00\n",
      "Step 728/804: training loss=0.00\n",
      "Step 727/804: training loss=0.00\n",
      "Step 726/804: training loss=0.00\n",
      "Step 725/804: training loss=0.00\n",
      "Step 724/804: training loss=0.00\n",
      "Step 723/804: training loss=0.00\n",
      "Step 722/804: training loss=0.00\n",
      "Step 721/804: training loss=0.00\n",
      "Step 720/804: training loss=0.00\n",
      "Step 719/804: training loss=0.00\n",
      "Step 718/804: training loss=0.00\n",
      "Step 717/804: training loss=0.00\n",
      "Step 716/804: training loss=0.00\n",
      "Step 715/804: training loss=0.00\n",
      "Step 714/804: training loss=0.00\n",
      "Step 713/804: training loss=0.00\n",
      "Step 712/804: training loss=0.00\n",
      "Step 711/804: training loss=0.00\n",
      "Step 710/804: training loss=0.00\n",
      "Step 709/804: training loss=0.00\n",
      "Step 708/804: training loss=0.00\n",
      "Step 707/804: training loss=0.00\n"
     ]
    }
   ],
   "source": [
    "events = list(client.fine_tuning.jobs.list_events(fine_tuning_job_id = retrieved_job.id, limit =100 ).data)\n",
    "for event in events:\n",
    "    print(event.message)"
   ]
  },
  {
   "cell_type": "markdown",
   "metadata": {
    "id": "Pe3jUJJjyeO1"
   },
   "source": [
    "Let's extract the training loss in each learning step"
   ]
  },
  {
   "cell_type": "code",
   "execution_count": 31,
   "metadata": {
    "id": "oqhDoVBNzW_w"
   },
   "outputs": [],
   "source": [
    "steps = []; train_loss = []\n",
    "for e in events:\n",
    "    if(e.data):\n",
    "        steps.append(e.data['step'])\n",
    "        train_loss.append(e.data['train_loss'])\n",
    "        "
   ]
  },
  {
   "cell_type": "markdown",
   "metadata": {
    "id": "iiiJIUuq2W4D"
   },
   "source": [
    "Use a line chart to visualize the train_loss in each step"
   ]
  },
  {
   "cell_type": "code",
   "execution_count": 32,
   "metadata": {
    "id": "EMRvEd-F2bLO"
   },
   "outputs": [
    {
     "data": {
      "text/plain": [
       "[<matplotlib.lines.Line2D at 0x2561fcb3af0>]"
      ]
     },
     "execution_count": 32,
     "metadata": {},
     "output_type": "execute_result"
    },
    {
     "data": {
      "image/png": "[encoded data removed]",
      "text/plain": [
       "<Figure size 640x480 with 1 Axes>"
      ]
     },
     "metadata": {},
     "output_type": "display_data"
    }
   ],
   "source": [
    "plt.plot(steps,train_loss, marker = 'o', linestyle = '-')"
   ]
  },
  {
   "cell_type": "markdown",
   "metadata": {
    "id": "8lGyZnvk25q9"
   },
   "source": [
    "### Step 5 - Deploy our model"
   ]
  },
  {
   "cell_type": "markdown",
   "metadata": {
    "id": "EYljL-wH42ce"
   },
   "source": [
    "Let's take a look at `retrieved_job` again"
   ]
  },
  {
   "cell_type": "code",
   "execution_count": 33,
   "metadata": {},
   "outputs": [
    {
     "data": {
      "text/plain": [
       "FineTuningJob(id='ftjob-duXLSMWJNdWcuUO9DsWY8oox', created_at=1713998935, error=Error(code=None, message=None, param=None), fine_tuned_model='ft:gpt-3.5-turbo-0125:personal::9HgKBj6D', finished_at=1714001299, hyperparameters=Hyperparameters(n_epochs=1, batch_size=1, learning_rate_multiplier=2), model='gpt-3.5-turbo-0125', object='fine_tuning.job', organization_id='org-YbesHSOn3aPRtwCjNIX77i4C', result_files=['file-lX4MY5tjpJRyH2u2waEjCOlJ'], status='succeeded', trained_tokens=108624, training_file='file-ehf4FmczXvMFnWzTS0jb74T7', validation_file=None, user_provided_suffix=None, seed=718647022, estimated_finish=None, integrations=[])"
      ]
     },
     "execution_count": 33,
     "metadata": {},
     "output_type": "execute_result"
    }
   ],
   "source": [
    "retrieved_job"
   ]
  },
  {
   "cell_type": "code",
   "execution_count": 34,
   "metadata": {
    "id": "q4ChDCWo3H85"
   },
   "outputs": [],
   "source": [
    "myllm = retrieved_job.fine_tuned_model"
   ]
  },
  {
   "cell_type": "markdown",
   "metadata": {
    "id": "nLLfuwC4-h9K"
   },
   "source": [
    "Defining a method to extract information from a given user complaint using a specific LLM and return the results."
   ]
  },
  {
   "cell_type": "code",
   "execution_count": 35,
   "metadata": {
    "id": "P3_99_Hf5CV1"
   },
   "outputs": [],
   "source": [
    "def extract_details(user_complaint, model_name):\n",
    "    \"\"\"\n",
    "    This function extracts information from a given user complaint using a specific LLM (Large Language Model).\n",
    "\n",
    "    Parameters:\n",
    "    user_complaint (str): The text of the user's complaint.\n",
    "    model_name (str): The name of the specific LLM model to use for extraction.\n",
    "    \"\"\"\n",
    "\n",
    "    system_content = \"\"\"\n",
    "        Given a customer complaint text, extract and return the following information in JSON (dict) format:\n",
    "        - Topic\n",
    "        - Problem\n",
    "        - Customer_Dissatisfaction_Index\n",
    "    \"\"\"\n",
    "\n",
    "    # Generate a response using the specified model and the user's complaint\n",
    "    response = client.chat.completions.create(\n",
    "        model = model_name,\n",
    "        messages=[\n",
    "            {\"role\": \"system\", \"content\": system_content},  # System content explaining the expected output\n",
    "            {\"role\": \"user\", \"content\": user_complaint}  # User's complaint passed as content\n",
    "        ]\n",
    "    )\n",
    "\n",
    "    # Return the content of the generated response\n",
    "    return response.choices[0].message.content\n"
   ]
  },
  {
   "cell_type": "markdown",
   "metadata": {
    "id": "zE_O2zAwplof"
   },
   "source": [
    "Let's use our fine-tuned model to extract the details for the following user complaint:\n",
    "\n",
    "*TV channels keep disappearing from my subscription! What's going on? Extremely annoyed with this service!*"
   ]
  },
  {
   "cell_type": "code",
   "execution_count": 36,
   "metadata": {
    "id": "vD1dEjnzWTuw"
   },
   "outputs": [],
   "source": [
    "complaint = \"TV channels keep disappearing from my subscription! What's going on? Extremely annoyed with this service!\""
   ]
  },
  {
   "cell_type": "markdown",
   "metadata": {
    "id": "LJNgLZoS6-gw"
   },
   "source": [
    "Let's test our `GPT-4` model with the same user complaint"
   ]
  },
  {
   "cell_type": "code",
   "execution_count": 37,
   "metadata": {
    "id": "G2XBuw0N47AC"
   },
   "outputs": [
    {
     "data": {
      "text/plain": [
       "'{\"Topic\": \"TV\", \"Problem\": \"Missing channels\", \"Customer_Dissatisfaction_Index\": 90}'"
      ]
     },
     "execution_count": 37,
     "metadata": {},
     "output_type": "execute_result"
    }
   ],
   "source": [
    "extract_details(complaint, myllm)"
   ]
  },
  {
   "cell_type": "markdown",
   "metadata": {
    "id": "J3xZBAUitpVq"
   },
   "source": [
    "Let's try for the following complaint:\n",
    "\n",
    "*Line is down! It is really annoying!*"
   ]
  },
  {
   "cell_type": "code",
   "execution_count": 38,
   "metadata": {
    "id": "I3O6HzK_ttZ7"
   },
   "outputs": [
    {
     "data": {
      "text/plain": [
       "'{\"Topic\": \"Internet\", \"Problem\": \"Line down\", \"Customer_Dissatisfaction_Index\": 9}'"
      ]
     },
     "execution_count": 38,
     "metadata": {},
     "output_type": "execute_result"
    }
   ],
   "source": [
    "complaint = \"Line is down! It is really annoying!\"\n",
    "extract_details(complaint, myllm)"
   ]
  },
  {
   "cell_type": "markdown",
   "metadata": {
    "id": "W4zeLRZfuNmS"
   },
   "source": [
    "Now let's compare the results from GPT-4"
   ]
  },
  {
   "cell_type": "code",
   "execution_count": 39,
   "metadata": {
    "id": "6ubUkjXXuQ8X"
   },
   "outputs": [
    {
     "data": {
      "text/plain": [
       "'{\\n \"Topic\": \"Line Issue\",\\n \"Problem\": \"Line is down\",\\n \"Customer_Dissatisfaction_Index\": \"High\"\\n}'"
      ]
     },
     "execution_count": 39,
     "metadata": {},
     "output_type": "execute_result"
    }
   ],
   "source": [
    "extract_details(complaint, 'gpt-4')"
   ]
  },
  {
   "cell_type": "markdown",
   "metadata": {
    "id": "YvqSymjWueXu"
   },
   "source": [
    "We can see that our model, which is trained on our dataset, provides better answers compared to GPT-4. Our model is fine-tuned based on our data and is familiar with the different edge cases and the context of our dataset."
   ]
  },
  {
   "cell_type": "code",
   "execution_count": 40,
   "metadata": {
    "id": "wVQQfAAXy-v8"
   },
   "outputs": [
    {
     "data": {
      "text/plain": [
       "'{\"Topic\": \"Billing\", \"Problem\": \"General\", \"Customer_Dissatisfaction_Index\": 10}'"
      ]
     },
     "execution_count": 40,
     "metadata": {},
     "output_type": "execute_result"
    }
   ],
   "source": [
    "complaint = \"I am very Angry! I want my money back!\"\n",
    "extract_details(complaint, myllm)"
   ]
  },
  {
   "cell_type": "code",
   "execution_count": 41,
   "metadata": {},
   "outputs": [
    {
     "name": "stdout",
     "output_type": "stream",
     "text": [
      "London is the capital city of England and the United Kingdom, located in the southeastern part of the country along the River Thames. It is one of the most populous cities in Europe, with a diverse population representing a wide range of cultures and ethnicities.\n",
      "\n",
      "London is known for its rich history, iconic landmarks, and vibrant cultural scene. Some of the city's most famous attractions include the Tower of London, Buckingham Palace, Big Ben, and the London Eye. The city is also home to world-class museums and galleries, such as the British Museum, Tate Modern, and the Victoria and Albert Museum.\n",
      "\n",
      "London is a global hub for finance, commerce, and the arts, with a thriving economy and a bustling nightlife. The city is known for its excellent public transportation system, including the famous red double-decker buses and the London Underground.\n",
      "\n",
      "Overall, London is a dynamic and cosmopolitan city that offers a unique blend of tradition and modernity, making it a popular destination for tourists and residents alike."
     ]
    }
   ],
   "source": [
    "from openai import OpenAI\n",
    "\n",
    "\n",
    "stream = client.chat.completions.create(\n",
    "    model= myllm,\n",
    "    messages=[{\"role\": \"user\", \"content\": \"tell me about London\"}],\n",
    "    stream=True,\n",
    ")\n",
    "for chunk in stream:\n",
    "    print(chunk.choices[0].delta.content or \"\", end=\"\")"
   ]
  },
  {
   "cell_type": "code",
   "execution_count": null,
   "metadata": {},
   "outputs": [],
   "source": []
  },
  {
   "cell_type": "code",
   "execution_count": null,
   "metadata": {},
   "outputs": [],
   "source": []
  }
 ],
 "metadata": {
  "colab": {
   "collapsed_sections": [
    "1Rp80dTGpsDD",
    "0r2XnfwnqTCK",
    "Jo9HFdW0jput",
    "4XB-sFc3kO4A",
    "8lGyZnvk25q9"
   ],
   "provenance": []
  },
  "kernelspec": {
   "display_name": "Python 3 (ipykernel)",
   "language": "python",
   "name": "python3"
  },
  "language_info": {
   "codemirror_mode": {
    "name": "ipython",
    "version": 3
   },
   "file_extension": ".py",
   "mimetype": "text/x-python",
   "name": "python",
   "nbconvert_exporter": "python",
   "pygments_lexer": "ipython3",
   "version": "3.8.19"
  }
 },
 "nbformat": 4,
 "nbformat_minor": 4
}
