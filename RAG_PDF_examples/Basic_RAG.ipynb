{
 "cells": [
  {
   "cell_type": "markdown",
   "metadata": {},
   "source": [
    "\n",
    "\n",
    "* **Retrieval Augmented Generation (RAG)**\n",
    "\n",
    "    RAG is a technique in Natural Language Processing (NLP) that improves text generation. Here's how it works:\n",
    "\n",
    "    1. **Retrieval:**  A query triggers a search through a knowledge base to find relevant information.\n",
    "    2. **Generation:**  A language model uses the retrieved information to create a factual and fluent response.\n",
    "\n",
    "* **Benefits of RAG**\n",
    "\n",
    "    * **Limits errors:** Helps prevent inaccurate or misleading outputs from the language model.  \n",
    "    * **Provides better responses:**  Offers more informative and relevant responses to user queries.\n",
    "\n",
    "* **Using `.env` Files**\n",
    "\n",
    "    * **Why they're used:**  `.env` files store sensitive project information like API keys for accessing knowledge bases or other external services. \n",
    "    * **Security:** Keeps this sensitive data out of your main code, improving security.\n",
    "\n",
    "**Important Note**\n",
    "\n",
    "This is just the initial setup. A full RAG implementation would include:\n",
    "\n",
    "* **A knowledge base:**  The source of information to retrieve.\n",
    "* **Retrieval model:**  The component that searches for relevant information.\n",
    "* **Generative model:**  The language model that produces text responses.\n",
    "* **Integration code:**  Logic to tie together the retrieval and generation steps.\n",
    "\n"
   ]
  },
  {
   "cell_type": "markdown",
   "metadata": {},
   "source": [
    "## Steps\n",
    "\n",
    "## Building a RAG Model with `llama`\n",
    "\n",
    "The `llama_index` library simplifies the process of creating and working with vector indexes, which are crucial for building Retrieval-Augmented Generation (RAG) models. The main steps involved are:\n",
    "\n",
    "1. **Data Ingestion**\n",
    "  - Load data from various sources (directories, PDFs, CSVs, etc.) using provided readers (`SimpleDirectoryReader`, `PDFReader`, `CSVReader`, etc.).\n",
    "\n",
    "2. **Document Chunking**\n",
    "  - Split large documents into smaller chunks for efficient indexing.\n",
    "  - Automatic chunking based on configurable parameters (max chunk size, sentence boundaries, etc.).\n",
    "\n",
    "3. **Vector Index Creation**\n",
    "  - Create a vector index that maps textual data to dense vector representations.\n",
    "  - Choose from different types of vector stores (`SimpleVectorStore`, `GPTVectorStoreIndex`, etc.).\n",
    "\n",
    "4. **Index Persistence**\n",
    "  - Persist the created vector index to disk using `StorageContext`.\n",
    "  - Avoid recreating the index from scratch every time.\n",
    "\n",
    "5. **Query Processing**\n",
    "  - Use `QueryEngine` to process queries.\n",
    "  - Retrieve relevant chunks from the vector index based on semantic similarity.\n",
    "  - Pass retrieved chunks to a language model for response generation.\n",
    "\n",
    "6. **Response Generation**\n",
    "  - Integrate with various language models (GPT-3, BERT, etc.).\n",
    "  - Generate a response based on the query and retrieved context chunks.\n"
   ]
  },
  {
   "cell_type": "code",
   "execution_count": 1,
   "metadata": {},
   "outputs": [
    {
     "data": {
      "text/plain": [
       "True"
      ]
     },
     "execution_count": 1,
     "metadata": {},
     "output_type": "execute_result"
    }
   ],
   "source": [
    "## Retrieval augmented generation\n",
    "\n",
    "import os\n",
    "from dotenv import load_dotenv\n",
    "load_dotenv()"
   ]
  },
  {
   "cell_type": "code",
   "execution_count": 2,
   "metadata": {},
   "outputs": [],
   "source": [
    "os.environ['OPENAI_API_KEY']=os.getenv(\"OPENAI_API_KEY\")\n"
   ]
  },
  {
   "cell_type": "markdown",
   "metadata": {},
   "source": [
    "**SimpleDirectoryReader: Easy Data Loading for LlamaIndex**\n",
    "\n",
    "SimpleDirectoryReader is a straightforward way to load data from your local files into LlamaIndex. It's ideal for getting started quickly. For production, consider the specialized Readers on LlamaHub.\n",
    "\n",
    "**Supported File Types**\n",
    "\n",
    "* Plain text (.txt)\n",
    "* .csv, .docx, .epub, .hwp, .ipynb \n",
    "* Image formats (.jpeg, .jpg, .png)\n",
    "* .mbox, .md, .pdf, \n",
    "* Audio/video (.mp3, .mp4) \n",
    "* PowerPoint (.ppt, .pptm, .pptx)\n",
    "\n",
    "**Note:** Use JSON Loader for JSON files.\n",
    "\n",
    "**Full documentation:** https://docs.llamaindex.ai/en/stable/module_guides/loading/simpledirectoryreader/ \n",
    "\n",
    "\n",
    "**Usage**\n",
    "\n",
    "```python\n",
    "from llama_index.core import SimpleDirectoryReader\n",
    "\n",
    "reader = SimpleDirectoryReader(input_dir=\"path/to/directory\")\n",
    "documents = reader.load_data()\n"
   ]
  },
  {
   "cell_type": "code",
   "execution_count": 13,
   "metadata": {},
   "outputs": [],
   "source": [
    "from llama_index import VectorStoreIndex, SimpleDirectoryReader\n",
    "\n",
    "# load_data has the following optional inputs:\n",
    "documents = SimpleDirectoryReader(\"data\").load_data()"
   ]
  },
  {
   "cell_type": "code",
   "execution_count": 14,
   "metadata": {},
   "outputs": [
    {
     "data": {
      "text/plain": [
       "[Document(id_='d2ce2155-cee3-4cdc-9925-807abecd6442', embedding=None, metadata={'page_label': '1', 'file_name': 'paper.pdf', 'file_path': 'data\\\\paper.pdf', 'file_type': 'application/pdf', 'file_size': 2025992, 'creation_date': '2024-04-29', 'last_modified_date': '2024-04-19', 'last_accessed_date': '2024-04-29'}, excluded_embed_metadata_keys=['file_name', 'file_type', 'file_size', 'creation_date', 'last_modified_date', 'last_accessed_date'], excluded_llm_metadata_keys=['file_name', 'file_type', 'file_size', 'creation_date', 'last_modified_date', 'last_accessed_date'], relationships={}, text='Glaucoma\\nDoes Glaucoma Alter Eye Movements When Viewing\\nImages of Natural Scenes? A Between-Eye Study\\nDaniel S. Asfaw, Pete R. Jones, Vera M. M¨ onter, Nicholas D. Smith, and David P . Crabb\\nDivision of Optometry and Visual Science, School of Health Science, City, University of London, London, United Kingdom\\nCorrespondence: David P . Crabb,\\nDivision of Optometry and Visual\\nScience, School of Health Sciences,City, University of London, North-ampton Square EC1V 0HB, London,UK;david.crabb.1@city.ac.uk.\\nSubmitted: February 7, 2018\\nAccepted: April 22, 2018\\nCitation: Asfaw DS, Jones PR, M¨ onter\\nVM, Smith ND, Crabb DP . Does\\nglaucoma alter eye movements whenviewing images of natural scenes? Abetween-eye study. Invest Ophthal-\\nmol Vis Sci . 2018;59:3189–3198.\\nhttps://doi.org/10.1167/iovs.18-23779PURPOSE .To investigate whether glaucoma produces measurable changes in eye movements.\\nMETHODS .Fifteen glaucoma patients with asymmetric vision loss (difference in mean deviation\\n[MD]>6 dB between eyes) were asked to monocularly view 120 images of natural scenes,\\npresented sequentially on a computer monitor. Each image was viewed twice—once each\\nwith the better and worse eye. Patients’ eye movements were recorded with an Eyelink 1000\\neye-tracker. Eye-movement parameters were computed and compared within participants(better eye versus worse eye). These parameters included a novel measure: saccadic reversalrate (SRR), as well as more traditional metrics such as saccade amplitude, ﬁxation counts,\\nﬁxation duration, and spread of ﬁxation locations (bivariate contour ellipse area [BCEA]). In\\naddition, the associations of these parameters with clinical measures of vision wereinvestigated.\\nR\\nESULTS .In the worse eye, saccade amplitude ðP¼0:012;/C013%) and BCEA ðP¼0:005;/C016\\n%Þwere smaller, while SRR was greater ( P¼0:018;þ16%). There was a signiﬁcant\\ncorrelation between the intereye difference in BCEA, and differences in MD values\\n(Spearman0sr¼0:65;P¼0:01), while differences in SRR were associated with differences\\nin visual acuity (Spearman0sr¼0:64;P¼0:01). Furthermore, between-eye differences in\\nBCEA were a signiﬁcant predictor of between-eye differences in MD: for every 1-dB difference\\nin MD, BCEA reduced by 6.2% (95% conﬁdence interval, 1.6%–10.3%).\\nCONCLUSIONS .Eye movements are altered by visual ﬁeld loss, and these changes are related to\\nchanges in clinical measures. Eye movements recorded while passively viewing images couldpotentially be used as biomarkers for visual ﬁeld damage.\\nKeywords: glaucoma, eye tracking, automated perimetry, eye movements, visual field\\nVisual ﬁeld (VF) assessments are critical for the detection\\nand management of glaucoma. Current methods of VF\\nassessment (automated perimetry) are demanding for patients\\nto perform, and are often problematic to organize and interpret\\nin busy clinics.1,2Alternative measures of the visual function in\\nglaucoma are therefore needed, potentially suitable for use at\\nhome or in community settings.\\nOne possibility may be to measure a person’s natural eye\\nmovements. Glaucoma patients have been shown to have\\naltered eye movements as compared to peers with normal\\nvision when performing everyday tasks, such as reading,3–5\\nvisual search,6face recognition,7watching video,8driving,9–12\\nand viewing images13(for a review, see Kasneci et al.14).\\nFurthermore, it has been recently reported that people with\\nearly-stage glaucoma, with no detectable visual ﬁeld loss,\\nexhibit altered eye-movement behavior.15More recently there\\nhave even been reports of a possible link between optic nervehead strain induced by eye movements and axonal loss in\\nglaucoma.\\n16\\nHowever, existing studies disagree about precisely how eye\\nmovements are altered by glaucomatous ﬁeld loss. For instance,\\nCrabb et al.17have found that glaucoma patients make more\\nsaccades, ﬁxations, and smooth pursuit eye movements per\\nsecond than controls when watching a movie depicting real-\\nworld driving. In contrast, Wiecek et al.18have reported that\\nperipheral VF loss does not inﬂuence saccade amplitude (SA),ﬁxation duration, and number of saccades during visual search\\ntasks. Instead, they observed a signiﬁcant difference in thedirection of saccades between patients and controls. Other\\nstudies have variously reported difference in saccade rate but\\nnot amplitude,\\n6number of saccades and spread of ﬁxations but\\nnot saccade amplitude,13and saccade amplitude but not\\nﬁxation rate or duration.19Some of these ambiguous results\\nmay be due to differences in task. However, previous studies\\nalso suffer from two limitations, both of which we address in\\nthe present study.\\nFirst, previous studies have exhibited imperfect matching\\nbetween cases and controls. Most previous studies have\\ncompared eye movements between independent groups of\\nglaucoma patients and age-similar controls. Individual differ-\\nences in factors such as cognitive skills, visual acuity (VA), sex,\\nculture, and health status are therefore confounding factors that\\ncould have affected eye movements between participants.5,20\\nAccordingly, in this study we investigated people with\\nasymmetrical visual ﬁeld loss between eyes. The better (less\\naffected) eye was used as the control for the worse eye.\\nComparing performance within a patient (i.e., between eyes),\\ninstead of comparing across patients and controls, allowed us\\nto control individual differences, resulting in a purer measure of\\nhow VF loss affects eye movements.\\nSecond, many previous studies have used only a small subset\\nof relatively simple metrics to describe patients’ eye move-\\nCopyright 2018 The Authors\\niovs.arvojournals.org jISSN: 1552-5783 3189\\nThis work is licensed under a Creative Commons Attribution-NonCommercial-NoDerivatives 4.0 International License.\\nDownloaded from iovs.arvojournals.org on 04/19/2024', start_char_idx=None, end_char_idx=None, text_template='{metadata_str}\\n\\n{content}', metadata_template='{key}: {value}', metadata_seperator='\\n'),\n",
       " Document(id_='3c00bab9-edcf-4fdb-b75a-30b773c63b69', embedding=None, metadata={'page_label': '2', 'file_name': 'paper.pdf', 'file_path': 'data\\\\paper.pdf', 'file_type': 'application/pdf', 'file_size': 2025992, 'creation_date': '2024-04-29', 'last_modified_date': '2024-04-19', 'last_accessed_date': '2024-04-29'}, excluded_embed_metadata_keys=['file_name', 'file_type', 'file_size', 'creation_date', 'last_modified_date', 'last_accessed_date'], excluded_llm_metadata_keys=['file_name', 'file_type', 'file_size', 'creation_date', 'last_modified_date', 'last_accessed_date'], relationships={}, text='ments (e.g., saccade count, ﬁxation count, saccade rate, and\\nﬁxation duration). These metrics do not capture the spatial or\\ntemporal characteristics of the scanpath, and so may berelatively insensitive to the effects of VF loss. Accordingly, in\\nthe present work we also quantiﬁed the spread of ﬁxations\\n17to\\nexamine spatial characteristics of eye movements. And weused intersaccadic angle\\n21(difference in direction between\\nsuccessive saccades) to examine temporal characteristics of\\nsaccadic movements.\\nIn short, the current study examined how eye movements\\nare affected by VF loss due to glaucoma. The goal was to\\nunderstand whether, and in what way, our eye movements\\nadapt to visual ﬁeld loss: differences which, in the longerterm, might lead to a novel paradigm for identifying such\\nloss. Analyses were performed within-subject, using patients\\nwith asymmetric VF , in order to isolate the speciﬁc impact ofVF loss on behavior, and novel metrics were used to\\ncharacterize each eye’s spatiotemporal proﬁle. Furthermore,\\nwe investigated the relationships between eye-movementmetrics and common clinical measures (e.g., visual acuity,\\ncontrast sensitivity). Given previous reports, our main\\nhypothesis was that patients’ eye movements would bealtered in their worse eye compared to their better eye.\\nHowever, given the lack of agreement between previous\\nstudies (see above), we were unable to predict which eye-movement metrics would differ between eyes, or thedirection of these differences.METHODS\\nParticipants\\nFifteen patients with a clinical diagnosis of primary open-angle\\nglaucoma, and no other ocular diseases, were recruited from a\\ndatabase of volunteers (see Table 1 for patient details). All\\nparticipants had a distinct asymmetry in their visual ﬁeld loss,as deﬁned by (1) a between-eyes difference in mean deviation\\n(MD) of at least 6 dB or more, and/or (2) a between-eyes\\ndifference in glaucoma severity of at least one stage, asmeasured by the Glaucoma Staging System 2\\n22(GSS2). All but\\none of the patients satisﬁed both criteria, as detailed in Clinical\\nTesting. The between-eye difference in MD for this patient(Table 1, patient D) was 4.7 dB. However, when staged usingthe GSS2 grading, one eye was scored at stage 2 and the fellow\\neye at stage 4, and so was still included in the study.\\nThe study was approved by the Ethics Committee for the\\nSchool of Health Sciences, City, University of London. Theresearch was carried out in accordance with the Declaration of\\nHelsinki and written informed consent was obtained from all\\nparticipants.\\nClinical Testing\\nVisual Fields. Static threshold perimetry (24-2) was\\nperformed monocularly in each eye, using a Humphrey FieldAnalyzer (HFA; Carl Zeiss Meditec, Dublin, CA, USA) runningTABLE1.Patient Information and Demographics. Patient ID Colors Correspond to Marker Colors Used Subsequently in Figures 1 and 6\\nDoes Glaucoma Alter Eye Movements? IOVSjJuly 2018 jVol. 59 jNo. 8 j3190\\nDownloaded from iovs.arvojournals.org on 04/19/2024', start_char_idx=None, end_char_idx=None, text_template='{metadata_str}\\n\\n{content}', metadata_template='{key}: {value}', metadata_seperator='\\n'),\n",
       " Document(id_='b2e4a0e6-b590-4eb1-b055-ace9be780560', embedding=None, metadata={'page_label': '3', 'file_name': 'paper.pdf', 'file_path': 'data\\\\paper.pdf', 'file_type': 'application/pdf', 'file_size': 2025992, 'creation_date': '2024-04-29', 'last_modified_date': '2024-04-19', 'last_accessed_date': '2024-04-29'}, excluded_embed_metadata_keys=['file_name', 'file_type', 'file_size', 'creation_date', 'last_modified_date', 'last_accessed_date'], excluded_llm_metadata_keys=['file_name', 'file_type', 'file_size', 'creation_date', 'last_modified_date', 'last_accessed_date'], relationships={}, text='the SITA-Standard algorithm. MD values for each eye/test are\\ngiven in Table 1 and were used to determine the ‘‘worse eye ’’\\nand ‘‘better eye. ’’HFA grayscales for the 24-2 VF test are shown\\nfor each individual in Figure 1.\\nVisual Acuity. Recognition acuity was measured monocu-\\nlarly by using Early Treatment Diabetic Retinopathy Study(ETDRS) charts. As shown in Table 1, all participants (except\\nleft eye of patient N) exhibited a VA of 0.18 logMAR or better\\n(Snellen equivalent of 6/9).\\nContrast Sensitivity (CS). CS was measured monocularly\\nby using Pelli-Robson charts.\\nApparatus\\nThe test apparatus is shown in Figure 2A. Stimuli werepresented on a 56-cm CRT computer monitor (Iiyama VisionMaster Pro 514; Iiyama Corporation, Tokyo, Japan) running at100 Hz with a resolution of 1600 by 1200 pixels. Given theviewing distance of 60 cm, the visual angle of the screen was617.08by613.48(i.e., when ﬁxating centrally). Participants’\\nhead position was stabilized by using a chin rest, and\\nparticipants wore the same set of trial frames to ensure thatany restriction to the ﬁeld of view due to spectacle frames wasequivalent for each person. Eye-movement positions wererecorded by using the Eyelink 1000 remote eye tracker (SRResearch Ltd., Ottawa, ON, Canada), which records at 1000 Hzwith a spatial precision of /C200.58.B e f o r et h es t u d y\\ncommenced, a nine-point calibration grid—the default calibra-tion method of the device—was performed and repeated untilthe result was rated ‘‘good ’’by the instrument. Between each\\ntrial, a drift check was also performed and a recalibration wascarried out if substantial drift was detected. Although nokeypresses were required during the test trials, participants\\nused a keyboard between trials to indicate when they were\\nready to continue (see Procedure).\\nStimuli\\nThe stimuli consisted of 39 color images and 81 grayscaleimages (see Supplementary Fig. S1 for the complete set ofimages). The images were taken from a nature documentary(Planet Earth; BBC Television, London, UK) and depictedoutdoor natural scenes, featuring animals, ﬂowers, andunderwater images. Images were displayed full screen (1600by 1200 pixels).\\nProcedure\\nBefore each trial, participants were asked to ﬁxate on a centralcue (Fig. 2B) and to press the spacebar when ready tocontinue. The keypress allowed participants to take breaks inbetween trials, and they were encouraged to do so as required.\\nOn each trial, the participant was shown 1 of 120 images for\\na mean duration of 4 seconds (SD, 0.6 second; range, 3–5seconds). A small amount of random jitter was added to theduration of each image, to encourage participants to remainengaged/attentive throughout the study (it was observedduring piloting that a minority of participants, when presentedwith a precisely regular sequence of images, eventuallystopped looking at the screen, and learnt to simply press thespacebar every Nseconds). During the trial, participants were\\nnot required to make an explicit, button-press response, butwere instead asked simply to freely view the images as a\\nslideshow.\\nA complete test run consisted of 120 images, presented\\nsequentially in random order (Fig. 2C). Participants completedtwo test runs in a single session: once for each eye. The startingeye was randomized among participants. The entire session on\\naverage lasted approximately 25 minutes, including breaks.\\nEye-Movement Analysis\\nIdentifying Saccades. An example scanpath for a single\\ntrial/participant is shown in Figure 3A. Raw gaze samples wererecorded at 1000 Hz and were classiﬁed as saccadic if both (1)velocity >308/s; and (2) acceleration >80008/s\\n2. Following\\nprevious similar studies,13small saccades of amplitude <0.58\\nwere discarded post hoc. This resulted in the exclusion of 5.8%of saccades for the worse eye and 6.0% for the better eye. Eye-movement data were analyzed with a bespoke softwareprogram written in MATLAB R2017a (MathWorks, Inc., Natick,\\nMA, USA).\\nSaccadic Reversal Rate (SRR). To understand the\\ntemporal dynamics of a scanpath, we derived a novel metricthat we term ‘‘saccadic reversal rate. ’’This was computed as\\nfollows. For each successive pair of saccades, the angular\\ndifference in direction, h\\ndiff, was computed (see Fig. 3B). For\\nexample, when two successive saccades moved in the samedirection, h\\ndiffwas close to 0 8. In contrast, if two saccades\\nmoved in opposite direction, hdiffwas close to 180 8. Across a\\ntrial, this resulted in a distribution of hdiffvalues, as shown in\\nFigure 3C. Of these, we were particularly interested in values\\nofhdiffbetween 170 8–1908, which we here term ‘‘saccadic\\n‘reversals. ’ ’’In healthy eyes, such reversals are relatively\\ncommon (5%) and are thought to represent a strategy ofrevisiting positions ‘‘where some information may have been\\nlost or overlooked. ’’21We therefore hypothesized that such\\nmovements would be particularly elevated when vision wasimpaired.\\nTo quantify SRR formally, we ﬁrst measured the proportion\\nofh\\ndiffvalues falling within a 20 8bin centered on 180 8(Fig. 3C,\\nred shaded bin). The choice of bin size was arbitrary. However,\\nchanging the bin width to 30 8or 60 8did not affect the overall\\npattern of results. The angle between saccades ( hdiffÞwas\\ncomputed as:\\nhdiff¼arctan si;y/C14\\nsi;x/C16/C17\\n/C0arctan si/C01;y/C14\\nsi/C01;x/C16/C17\\n; ð1Þ\\nwhere si;yand si;xare the yand xcomponents of the ith\\nsaccade, and where si/C01is the preceding saccade. Then, SRR\\nwas computed as:\\nSRR¼Proportion of saccadic reversals\\nTotal number of hdiff: ð2Þ\\nSRR was computed at the end of each run (i.e., the rightmost\\npanel in Fig. 4). This analysis produced one SRR value for eacheye, for each participant.\\nBivariate Contour Ellipse Area (BCEA). The spread of\\nﬁxation locations was computed as the BCEA. The BCEA\\nprovides a summary measure of the spread of a participant’sgaze over the visual ﬁeld (in degrees visual angle, squared).Previous studies have used BCEA to study ﬁxation stability in\\npatients with macular degeneration\\n23,24and to analyze eye\\nmovement of bilateral glaucomatous participants when view-ing driving scenes in a hazard perception test17and when\\nviewing everyday scenes.13Note that in the present study—\\nunlike in perimetry—participants were not instructed to ﬁxate\\na particular location. BCEA should therefore be interpreted\\nsimply as a measure of spread, not accuracy, and a bigger valueshould not necessarily be considered ‘‘worse. ’’\\nTo compute BCEA, ﬁxation positions were ﬁrst transformed\\ninto a location in a new plane (Fig. 5; ﬁrst column, N¼1). This\\nwas done by aligning ﬁxation positions based on their relative\\nposition to the preceding ﬁxation. This transformationDoes Glaucoma Alter Eye Movements? IOVSjJuly 2018 jVol. 59 jNo. 8 j3191\\nDownloaded from iovs.arvojournals.org on 04/19/2024', start_char_idx=None, end_char_idx=None, text_template='{metadata_str}\\n\\n{content}', metadata_template='{key}: {value}', metadata_seperator='\\n'),\n",
       " Document(id_='f962efd4-62bd-4487-b439-651f46fc4d9b', embedding=None, metadata={'page_label': '4', 'file_name': 'paper.pdf', 'file_path': 'data\\\\paper.pdf', 'file_type': 'application/pdf', 'file_size': 2025992, 'creation_date': '2024-04-29', 'last_modified_date': '2024-04-19', 'last_accessed_date': '2024-04-29'}, excluded_embed_metadata_keys=['file_name', 'file_type', 'file_size', 'creation_date', 'last_modified_date', 'last_accessed_date'], excluded_llm_metadata_keys=['file_name', 'file_type', 'file_size', 'creation_date', 'last_modified_date', 'last_accessed_date'], relationships={}, text='FIGURE 1.HFA Grayscales of monocular visual ﬁelds for all 15 participants measured by using the 24-2 algorithm (SITA). HFA MD values (dB) are\\ngiven for each image and were used to classify the eye as better or worse. The worse eye in each image is indicated by an asterisk .Does Glaucoma Alter Eye Movements? IOVSjJuly 2018 jVol. 59 jNo. 8 j3192\\nDownloaded from iovs.arvojournals.org on 04/19/2024', start_char_idx=None, end_char_idx=None, text_template='{metadata_str}\\n\\n{content}', metadata_template='{key}: {value}', metadata_seperator='\\n'),\n",
       " Document(id_='1d86797a-6fa3-477d-b8e5-7d1767733ca2', embedding=None, metadata={'page_label': '5', 'file_name': 'paper.pdf', 'file_path': 'data\\\\paper.pdf', 'file_type': 'application/pdf', 'file_size': 2025992, 'creation_date': '2024-04-29', 'last_modified_date': '2024-04-19', 'last_accessed_date': '2024-04-29'}, excluded_embed_metadata_keys=['file_name', 'file_type', 'file_size', 'creation_date', 'last_modified_date', 'last_accessed_date'], excluded_llm_metadata_keys=['file_name', 'file_type', 'file_size', 'creation_date', 'last_modified_date', 'last_accessed_date'], relationships={}, text='FIGURE 2.Stimuli, apparatus, and procedures. ( A) Participants were seated 60 cm from the screen (distance constrained by using the chin/head\\nrest), and viewed the stimuli monocularly. An eye tracker was mounted below the monitor and recorded eye movements during test trials.Participants used a computer keyboard to initiate each trial. ( B) The stimuli were displayed for a random duration between 3 and 5 seconds. Before\\neach trial a black central ﬁxation point, on a white background, was presented. ( C) During each run a patient watched 120 images monocularly, and\\neach patient completed two runs (one per eye).\\nFIGURE 3.Computation of the novel eye-movement metric: SRR. ( A) Example eye-movement data from a single trial. White dots represent ﬁxations,\\nandvectors represent saccades. The arcs represent hdiff ;the angular difference between successive pairs of saccades. ( B) Illustration of how hdiff\\nvalues were computed (measured anticlockwise relative to the horizontal). ( C) Polar histogram of hdiffvalues (same data as [ A] and [ B]). For\\nexample, on two occasions hdifffell within 165 8–1958, while on one occasion the angular difference was very small (close to zero). The saccadic\\nreversals are highlighted in red. Colored dots around the periphery of the histogram show each of the individual hdiffvalues computed in ( B). Note\\nthat for illustration purposes, the bins shown here are 30 8wide, and include data from a single trial only. However, in the ﬁnal analysis bins of 20 8\\nwere used, and data were concatenated across all 120 trials.Does Glaucoma Alter Eye Movements? IOVSjJuly 2018 jVol. 59 jNo. 8 j3193\\nDownloaded from iovs.arvojournals.org on 04/19/2024', start_char_idx=None, end_char_idx=None, text_template='{metadata_str}\\n\\n{content}', metadata_template='{key}: {value}', metadata_seperator='\\n'),\n",
       " Document(id_='c34b1a9c-6b74-40cf-9cfc-9af0d0fec1fe', embedding=None, metadata={'page_label': '6', 'file_name': 'paper.pdf', 'file_path': 'data\\\\paper.pdf', 'file_type': 'application/pdf', 'file_size': 2025992, 'creation_date': '2024-04-29', 'last_modified_date': '2024-04-19', 'last_accessed_date': '2024-04-29'}, excluded_embed_metadata_keys=['file_name', 'file_type', 'file_size', 'creation_date', 'last_modified_date', 'last_accessed_date'], excluded_llm_metadata_keys=['file_name', 'file_type', 'file_size', 'creation_date', 'last_modified_date', 'last_accessed_date'], relationships={}, text='maintains the corresponding saccade amplitudes. One BCEA\\nvalue was computed for each eye at the end of each run (Fig. 5;last column, N¼120).\\nAdditional Eye-Movement Metrics. In addition to SRR\\nand BCEA, we also computed other common metrics, widelyused in previous similar studies.\\n13These were (1) number of\\nﬁxations, (2) ﬁxation duration, (3) SA, (4) saccade velocity\\n(speed of saccade), and (5) total scanpath length. The\\ndistributions of the parameters were non-Gaussian; therefore,we considered median values for our statistical analysis. Ineach case, we computed one value for each eye, for eachparticipant. Note that several of these parameters are likely tocovary (e.g., saccade amplitude and total scanpath length), but\\nthey are not redundant. For example, two observers couldhave the same ﬁxation duration, saccade count, and scanpathlength, but a different median saccade amplitude.\\nStatistical Analyses. Each metric (SRR, BCEA, additional\\neye-movement metrics) provided a single pair of values foreach patient (i.e., one value for the better eye and one value for\\nthe worse eye). Pairwise statistical analyses were performed to\\nascertain any signiﬁcant differences between the better eyeand worse eye. Since the distribution of the data was non-Gaussian, we used nonparametric paired analyses (Wilcoxon’stest). Multiple regression analysis was used to explore if any of\\nFIGURE 5.BCEA computation across a run (left eye of patient ID k). The upper row illustrates the raw scanpaths for individual trials (ﬁxations and\\nsaccades represented as points andvectors , respectively). Each saccade is colored uniquely to match the plots at the bottom. The bottom row\\nshows the aligned saccades/ﬁxations. BCEA was computed at the end of a run from the best-ﬁtting ellipse ( red dashed line ).\\nFIGURE 4.SRR analysis (left eye of patient ID K). The upper row illustrates the raw scanpaths for individual trials (ﬁxations and saccades\\nrepresented as points andvectors , respectively). The bottom row shows the corresponding cumulative count of hdiffvalues from trials 1 ( leftmost )\\nto 120 ( rightmost ). SRR was computed at the end of a run and was deﬁned as the proportion of hdiffvalues that fell in the red bin to the total count\\nofhdiff. Shown here: SRR ¼0.13.Does Glaucoma Alter Eye Movements? IOVSjJuly 2018 jVol. 59 jNo. 8 j3194\\nDownloaded from iovs.arvojournals.org on 04/19/2024', start_char_idx=None, end_char_idx=None, text_template='{metadata_str}\\n\\n{content}', metadata_template='{key}: {value}', metadata_seperator='\\n'),\n",
       " Document(id_='c19e5e66-e4d9-4575-bce9-bd455d5462b1', embedding=None, metadata={'page_label': '7', 'file_name': 'paper.pdf', 'file_path': 'data\\\\paper.pdf', 'file_type': 'application/pdf', 'file_size': 2025992, 'creation_date': '2024-04-29', 'last_modified_date': '2024-04-19', 'last_accessed_date': '2024-04-29'}, excluded_embed_metadata_keys=['file_name', 'file_type', 'file_size', 'creation_date', 'last_modified_date', 'last_accessed_date'], excluded_llm_metadata_keys=['file_name', 'file_type', 'file_size', 'creation_date', 'last_modified_date', 'last_accessed_date'], relationships={}, text='the parameters, or combination of parameters, were predictive\\nfor the between-eye differences as measured by between-eye\\ndifference in MD. All statistical analyses were conducted using\\nR v3.3.3.25\\nRESULTS\\nFifteen patients with glaucoma were recruited (60% men), with\\na median (interquartile range [IQR]) age of 68 (61, 79) years.\\nThe median (IQR) HFA MD value was /C04.1 (/C05.9,/C01.7) dB for\\nthe better eyes, and /C015.9 ( /C019.8, /C09.8) dB for the worse eyes.\\nThe median between-eye difference in MD value was /C010.1\\n(/C014.8, /C08.6) dB, reﬂecting a pronounced asymmetry in VF\\nloss within this group of patients. Between eyes (better versus\\nworse), there were no signiﬁcant differences in logMAR VA ( P\\n¼0.814) or Pelli-Robson CS values ( P¼0.362). The right eye\\nwas the ‘‘worse eye ’’in 10 of the 15 participants.\\nTable 2 shows median (IQR) values for each of the various\\neye-movement parameters. There was no statistically signiﬁ-\\ncant difference, between eyes, in terms of ﬁxation duration,\\nﬁxation count, saccade velocity, or scanpath length. However,\\nas shown in Figure 6, better eyes made larger saccades\\n(Wilcoxon signed rank test ;P¼0:012), exhibited greater\\nBCEA (Wilcoxon signed rank test ;P¼0:005) and lower SRR\\n(Wilcoxon signed rank test ;P¼0:018). The median (IQR)\\nbetween-eye difference (better eye – worse eye) in SA was\\n0.498(0.08–0.98); the median (IQR) difference in SRR and BCEA\\nwas /C00.014 ( /C00.003, /C00.023) and 49.0 (16.1–95.8) deg\\nsquared. There was no correlation between the intereye\\ndifference in BCEA and intereye difference in SA\\n(Spearman0sr¼0:16;P¼0:56).\\nTo investigate the presence of possible practice effects, we\\ncompared eye movements between the eye tested ﬁrst versus\\nsecond (i.e., instead of the better versus the worse eye). No\\nsigniﬁcant differences were observed for any of the eye-\\nmovement metrics tested (ﬁxation duration, P¼0.84; saccade\\ncount, P¼0.52; saccade velocity, P¼0.44; scanpath length, P\\n¼0.97; SA, P¼0:09; SRR, P¼0:42; BCEA, P¼0:38). This\\nindicates that there was no substantial order-effect.\\nTable 3 shows the univariate associations, after corrections\\nfor multiple comparison, between each eye-movement param-\\neter and various common clinical measures (MD, CS, and VA;\\nBonferroni correction for four comparisons). There was some\\nindication of a linear relationship between age and SA but it\\nwas not statistically signiﬁcant after correcting for multiple\\ncomparisons (Spearman’s correlation; r¼0:62 ;P¼0:02) (Fig.\\n7A). There was a statistically signiﬁcant association between\\nthe differences in SRR (between the better and the worse eyes)\\nand differences in logMAR VA ( r¼0:64 ;P¼0:01) (Fig. 7B).\\nFurthermore, a statistically signiﬁcant association was observed\\nbetween differences in BCEA and differences in MD values\\n(r¼0:65 ;P¼0:01) (Fig. 7C). There was no signiﬁcantassociation between any other eye-movement parameters and\\nany clinical measures (see Table 2).\\nStepwise multiple regression analysis (Backward elimina-\\ntion) showed that between-eye differences in BCEA alone were\\na statistically signiﬁcant predictor of between-eye differences\\nin MD values ( F¼7:37 ;R2¼0:36 ;P¼0:01): for every 1-dB\\ndifference in MD, BCEA decreased by an average of 6.2% (95%\\nconﬁdence interval, 1.6%–10.3%) between eyes. This indicates\\nthat as the VF worsens the spatial extent of eye movements\\nreduces.\\nDISCUSSION\\nThis study assessed the effect of glaucomatous VF damage oneye movements. In patients with between-eye asymmetric VF\\nloss, median SAs were smaller in the worse eye, and the total\\nspread of ﬁxations (BCEA) was reduced. Although both metrics\\nrelate to the spread of the data, BCEA separated ‘‘better ’’and\\n‘‘worse ’’eyes more consistently than SA. This is likely because\\nBCEA is dependent on both the direction and amplitude of the\\nsaccades, and provides a more direct measure of the extent to\\nwhich observers explored the visual scene. In addition, we\\ncomputed SRR: a novel eye-movement parameter that consid-\\ners the geometric relationship between temporal sequences of\\nsaccades. SRR was signiﬁcantly greater in the worse eye,\\nindicating that the worse eye exhibited more back-and-forth\\nsaccadic movements than the fellow, better eye. There were\\nalso signiﬁcant relationships between eye-movement parame-\\nters and clinical measures. Speciﬁcally, between-eye differenc-es in BCEA were correlated with MD, while SRR was correlated\\nwith VA. In terms of more basic eye-movement metrics, such as\\nsaccade count, ﬁxation count, ﬁxation duration, and scanpath\\nlength, this study did not ﬁnd a signiﬁcant difference between\\nworse and the better eyes.\\nComparison With Previous Findings\\nOur ﬁndings of smaller saccades and reduced spread of\\nﬁxations are consistent with previous reports. Thus, BCEA\\nhas been reported to be smaller in glaucoma patients than age-similar healthy controls.13,26Similarly, SAs in glaucoma patients\\nhave been reported to be smaller than in controls in some,15,19\\nthough not all (Smith et al.13; Wiecek et al.18) previous studies.\\nTo the best of our knowledge, this is the ﬁrst study that\\nanalyzed the angle between saccades to evaluate eye move-\\nments of patients with visual ﬁeld loss. Taken together, these\\nresults provide novel and compelling evidence that eye\\nmovements are altered after VF damage.\\nWe did not ﬁnd statistically signiﬁcant differences between\\nthe worse and better eye in terms of more basic parameters,\\nsuch as saccade count, ﬁxation count, saccade rate, and\\nﬁxation duration. In contrast, some (though not all; Prado Vegaet al.11; Wiecek et al.18) previous studies have reportedTABLE2.Comparison of the Difference Between Worse and the Better Eyes in Different Eye-Movement Features\\nBetter Eye,\\nMedian (IQR)Worse Eye,\\nMedian (IQR)Between-Eye Difference,\\nMedian (IQR)Wilcoxon’s\\nPValue\\nFixation duration, msec 235 (228, 259) 244 (228, 268) /C09(/C016, 11) 0.60\\nFixation count per trial 12.0 (11.6, 13.8) 12.0 (11.23, 13.0) 0 ( /C01.4, 1.0) 0.67\\nSaccade velocity, deg/sec 230.0 (182.0, 258.9) 215.0 (169.8, 254.3) /C013.5 ( /C027.1, 7.0) 0.18\\nScanpath length, deg 60.31 (48.0, 64.8) 55.7 (43.2, 59.3) /C06.4 (/C014.9, 4.3) 0.15\\nSA, deg 3.95 (3.09, 5.42 ) 3.13 (2.92, 4.66) 0.5 (0.0, 0.9) 0.013\\nSRR 0.09 (0.08, 0.12) 0.10 (0.09, 0.12) /C00.014 ( /C00.021, /C00.003) 0.018\\nBCEA, deg squared 313 (249, 418) 253 (222, 320) 49 (16, 96) 0.005\\nStatistically signiﬁcant Pvalues are highlighted in bold.Does Glaucoma Alter Eye Movements? IOVSjJuly 2018 jVol. 59 jNo. 8 j3195\\nDownloaded from iovs.arvojournals.org on 04/19/2024', start_char_idx=None, end_char_idx=None, text_template='{metadata_str}\\n\\n{content}', metadata_template='{key}: {value}', metadata_seperator='\\n'),\n",
       " Document(id_='1e03f20b-050f-4ce6-b324-4a56cb894269', embedding=None, metadata={'page_label': '8', 'file_name': 'paper.pdf', 'file_path': 'data\\\\paper.pdf', 'file_type': 'application/pdf', 'file_size': 2025992, 'creation_date': '2024-04-29', 'last_modified_date': '2024-04-19', 'last_accessed_date': '2024-04-29'}, excluded_embed_metadata_keys=['file_name', 'file_type', 'file_size', 'creation_date', 'last_modified_date', 'last_accessed_date'], excluded_llm_metadata_keys=['file_name', 'file_type', 'file_size', 'creation_date', 'last_modified_date', 'last_accessed_date'], relationships={}, text='FIGURE 6.Plots of difference between the better and the worse eye in ( A) median value of a saccade amplitude, ( B) saccadic reversal rate, and ( C)\\nBCEA. The black solid line in each plot marks the null hypothesis ( ‘‘no difference between the eyes ’’).\\nFIGURE 7.Plot depicting relationships between ( A) between-eye differences in SRR and VA, P¼0:01; and ( B) between-eye differences in BCEA and\\n24-2 MD values, P¼0:01.Does Glaucoma Alter Eye Movements? IOVSjJuly 2018 jVol. 59 jNo. 8 j3196\\nDownloaded from iovs.arvojournals.org on 04/19/2024', start_char_idx=None, end_char_idx=None, text_template='{metadata_str}\\n\\n{content}', metadata_template='{key}: {value}', metadata_seperator='\\n'),\n",
       " Document(id_='de73dd2d-3015-463e-ba75-5415edaa24b9', embedding=None, metadata={'page_label': '9', 'file_name': 'paper.pdf', 'file_path': 'data\\\\paper.pdf', 'file_type': 'application/pdf', 'file_size': 2025992, 'creation_date': '2024-04-29', 'last_modified_date': '2024-04-19', 'last_accessed_date': '2024-04-29'}, excluded_embed_metadata_keys=['file_name', 'file_type', 'file_size', 'creation_date', 'last_modified_date', 'last_accessed_date'], excluded_llm_metadata_keys=['file_name', 'file_type', 'file_size', 'creation_date', 'last_modified_date', 'last_accessed_date'], relationships={}, text='signiﬁcant differences between glaucoma patients and controls\\nin terms of number of saccades,13ﬁxation rate, ﬁxation\\nduration,17and saccade rate.6One possible reason for this\\ndisparity may be due to differences in task. For instance, in the\\nstudy of Smith et al.,6participants were asked to search for\\ntargets in photographs. However, in this study, participantswere asked to view photographs freely. Another possible\\nreason is that the effects of these parameters are very small,\\nand we lacked the statistical power in the present study todetect them reliably. Finally, it may be that these simple eye-\\nmovement metrics are more susceptible to individual differ-\\nences and do not always occur reliably.\\nRelationship Between Eye Movements and\\nCommon Clinical Measures\\nWhen using their worse eye, patients made more spatially\\nrestricted eye movements (i.e., SA and BCEA of worse eye weresmaller). Since other possible factors that affect eye move-\\nments (such as cognitive skills, age, personal preference) were\\ncontrolled for, these differences in eye movements are likelydue to their visual impairment. For example, since the worse\\neye typically exhibited substantial VF loss (see Fig. 1), the\\nspatial narrowing of eye movements might be explained by anabsence of exogenous cueing at more peripheral loca-tions.\\n27–29If this were the case, one would expect a\\nrelationship between measurements of VF loss and the spread\\nof ﬁxations. Consistent with this, our data showed thatdecreases in VF MD values were positively correlated with\\nreductions in the spread of ﬁxations (BCEA).\\nWhen viewing a scene, it is normal for normally sighted\\nobservers to make a number of saccadic reversals.21However,\\nour data showed that saccadic reversal rates were increased on\\naverage in glaucomatous eyes, and this was statistically\\nsigniﬁcant. As with the other eye-movement parameters(BCEA, SA), this may be primarily a consequence of theirrestricted VF , with patients opting to revisit parts of the image\\nin the absence of any peripheral cues to attract their attention.\\nIf this is the case, one could similarly predict that a normal eyemay exhibit greater SRRs when viewing a visual stimulus where\\nall salient information is conﬁned to a narrow spatial region.\\nAlternatively (or in addition), it may be that increased SRRsrepresent an adaptive strategy to cope with reductions in\\nacuity, with patients ‘‘revisiting ’’parts of the image in order to\\ngain more information ( ‘‘resampling ’’). Consistent with this,\\nincreases in SRR (between the eyes) were correlated withdecreases in VA (Fig. 7B).Between eyes, there was a positive association between\\nBCEA (spread of ﬁxations) and MD values, and also betweenSRR and VA. This is encouraging, as it suggests that natural eye\\nmovements could in future provide complementary biomark-\\ners to traditional clinical measurements. This would havesubstantial practical advantages, owing to the ease with which\\nit would be possible to collect large amounts of data with\\nminimal burden or discomfort to patients.\\n8\\nImplications and Future Work\\nThe present work could be developed in a number of ways.First, this study showed eye-movement parameters (SA, SRR,\\nand BCEA) are altered by worsening VF loss, but we cannot say,\\nbased on the present results, whether these measures could beused to detect VF loss. To answer this, one would have to build\\na model that can discriminate patients from healthy subjects\\nand evaluate its diagnostic sensitivity and speciﬁcity in anappropriately designed study.\\n30,31Second, the present work\\nshowed a relationship between eye movements and summary\\nmetrics of visual impairment, such as VA and MD. However, thesmall sample size precludes any investigation into the\\nrelationship between eye movement and different patterns or\\nlocation of VF loss.\\nCONCLUSIONS\\nWhen viewing images monocularly, patients with asymmetric\\nVF loss exhibited systematically different eye movements in\\ntheir worse eye. Speciﬁcally, eye-movements in the worse eyewere shown to be restricted in spatial extent, and to exhibit\\nmore frequent back-and-forth ( ‘‘reversal ’’) saccades. These\\ndifferences in eye movements were shown to correlate withcommon clinical measures, with differences in BCEA and SRR\\nassociated with changes in MD and VA, respectively. This work\\nintroduces a novel eye-movement summary statistic, SRR,which could be applied to analyze eye movements of patients\\nwith other ophthalmic or neurodegenerative conditions.\\nAcknowledgments\\nSupported by European Union’s Horizon 2020 research and\\ninnovation program under the Marie Sklodowska-Curie GrantAgreement No. 675033; and supported by Fight For Sight (UK)\\nproject Grant No 1854.\\nDisclosure: D.S. Asfaw , None; P.R. Jones , None; V.M. M ¨onter ,\\nNone; N.D. Smith , None; D.P. Crabb , Allergan (R), Roche (R)\\nReferences\\n1. Malik R, Baker H, Russell RA, Crabb DP . A survey of attitudes\\nof glaucoma subspecialists in England and Wales to visual ﬁeldtest intervals in relation to NICE guidelines. BMJ Open . 2013;\\n3:e002067.\\n2. Glen FC, Baker H, Crabb DP . A qualitative investigation into\\npatients’ views on visual ﬁeld testing for glaucoma monitor-\\ning.BMJ Open . 2014;4:e003996.\\n3. Burton R, Crabb DP , Smith ND, Glen FC, Garway-Heath DF .\\nGlaucoma and reading: exploring the effects of contrast\\nlowering of text. Optom Vis Sci . 2012;89:1282–1287.\\n4. Ishii M, Seki M, Harigai R, Abe H, Fukuchi T. Reading\\nperformance in patients with glaucoma evaluated using theMNREAD charts. Jpn J Ophthalmol . 2013;57:471–474.\\n5. Smith ND, Glen FC, M¨ onter VM, Crabb DP . Using eye tracking\\nto assess reading performance in patients with glaucoma: awithin-person study. J Ophthalmol . 2014;2014:e20528.TABLE 3.Spearman’s rCorrelations Comparing Between-Eye Differ-\\nences in SA, BCEA, and SRR With Clinical Measures and Age\\nEye MovementClinical Measures\\nMD VA CS Age\\nSA\\nr 0.23 0.13 0.30 0.62\\nPvalue 0.42 0.66 0.28 0.02\\nSRR\\nr /C00.36 0.64 /C00.30 0.15\\nPvalue 0.18 0.01 0.28 0.59\\nBCEA\\nr 0.65 0.03 /C00.08 0.10\\nPvalue 0.01 0.93 0.78 0.73\\nStatistically signiﬁcant associations are highlighted in bold. Follow-\\ning Bonferroni correction for four comparisons, the criterion forsigniﬁcance was P<0.013.Does Glaucoma Alter Eye Movements? IOVSjJuly 2018 jVol. 59 jNo. 8 j3197\\nDownloaded from iovs.arvojournals.org on 04/19/2024', start_char_idx=None, end_char_idx=None, text_template='{metadata_str}\\n\\n{content}', metadata_template='{key}: {value}', metadata_seperator='\\n'),\n",
       " Document(id_='62533dfc-d803-4164-8e49-1570c7ab4021', embedding=None, metadata={'page_label': '10', 'file_name': 'paper.pdf', 'file_path': 'data\\\\paper.pdf', 'file_type': 'application/pdf', 'file_size': 2025992, 'creation_date': '2024-04-29', 'last_modified_date': '2024-04-19', 'last_accessed_date': '2024-04-29'}, excluded_embed_metadata_keys=['file_name', 'file_type', 'file_size', 'creation_date', 'last_modified_date', 'last_accessed_date'], excluded_llm_metadata_keys=['file_name', 'file_type', 'file_size', 'creation_date', 'last_modified_date', 'last_accessed_date'], relationships={}, text='6. Smith N, Glen F , Crabb D. Eye movements during visual search\\nin patients with glaucoma. BMC Ophthalmol . 2012;12:45.\\n7. Glen FC, Smith ND, Crabb DP . Saccadic eye movements and\\nface recognition performance in patients with centralglaucomatous visual ﬁeld defects. Vision Res . 2013;82:42–51.\\n8. Crabb DP , Smith ND, Zhu H. What’s on TV: detecting age-\\nrelated neurodegenerative eye disease using eye movementscanpaths. Front Aging Neurosci . 2014;6:1–10.\\n9. Bowers A, Peli E, Elgin J, McGwin G, Owsley C. On-road\\ndriving with moderate visual ﬁeld loss. Optom Vis Sci . 2005;\\n82:657–667.\\n10. Medeiros FA, Weinreb RN, Boer ER, Rosen PN. Driving\\nsimulation as a performance-based test of visual impairmentin glaucoma. J Glaucoma . 2012;21:221–227.\\n11. Prado Vega R, van Leeuwen PM, Rend ´on V ´elez E, Lemij HG,\\nde Winter JCF . Obstacle avoidance, visual detection perfor-mance, and eye-scanning behavior of glaucoma patients in adriving simulator: a preliminary study. PLoS One . 2013;8:\\ne77294.\\n12. Glen FC, Smith ND, Crabb DP . Impact of superior and inferior\\nvisual ﬁeld loss on hazard detection in a computer-baseddriving test. Br J Ophthalmol . 2015;99:613–617.\\n13. Smith ND, Crabb DP , Glen FC, Burton R, Garway-Heath DF .\\nEye movements in patients with glaucoma when viewingimages of everyday scenes. Seeing Perceiving . 2012;25:471–\\n492.\\n14. Kasneci E, Black AA, Wood JM. Eye-tracking as a tool to\\nevaluate functional ability in everyday tasks in glaucoma. J\\nOphthalmol . 2017;2017:e6425913.\\n15. Najjar RP , Sharma S, Drouet M, et al. Disrupted eye\\nmovements in preperimetric primary open- angle glaucoma.Invest Ophthalmol Vis Sci . 2017;58:2430–2437.\\n16. Wang X, Beotra MR, Tun TA, et al. In vivo 3-dimensional strain\\nmapping conﬁrms large optic nerve head deformationsfollowing horizontal eye movements. Invest Ophthalmol Vis\\nSci. 2016;57:5825–5833.\\n17. Crabb DP , Smith ND, Rauscher FG, et al. Exploring eye\\nmovements in patients with glaucoma when viewing a drivingscene. PLoS One . 2010;5:e9710.\\n18. Wiecek E, Pasquale LR, Fiser J, Dakin S, Bex PJ. Effects of\\nperipheral visual ﬁeld loss on eye movements during visualsearch. Front Psychol . 2012;3:472.19. Lee SSY , Black AA, Wood JM. Effect of glaucoma on eye\\nmovement patterns and laboratory-based hazard detection\\nability. PLoS One . 2017;12:e0178876.\\n20. Coutrot A, Hsiao JH, Chan AB. Scanpath modeling and\\nc l a s s i ﬁ c a t i o nw i t hh i d d e nM a r k o vm o d e l s . Behav Res\\nMethods . 2017;50:362–379.\\n21. Amor TA, Reis SDS, Campos D, Herrmann HJ, Andrade JS.\\nPersistence in eye movement during visual search. Sci Rep .\\n2016;6:20815.\\n22. Brusini P , Filacorda S. Enhanced Glaucoma Staging System\\n(GSS 2) for classifying functional damage in glaucoma. J\\nGlaucoma . 2006;15:40–46.\\n23. Bellmann C, Feely M, Crossland MD, Kabanarou SA, Rubin GS.\\nFixation stability using central and pericentral ﬁxation targets\\nin patients with age-related macular degeneration. Ophthal-\\nmology . 2004;111:2265–2270.\\n24. Gonz ´alez EG, Teichman J, Lillakas L, Markowitz SN, Steinbach\\nMJ. Fixation stability using radial gratings in patients with age-\\nrelated macular degeneration. Can J Ophthalmol . 2006;41:\\n333–339.\\n25. R Core Team. R: a language and environment for statistical\\ncomputing. Available at: https://www.r-project.org/. Ac-cessed January 10, 2018.\\n26. Cheong AMY , Geruschat DR, Congdon N. Trafﬁc gap\\njudgment in people with signiﬁcant peripheral ﬁeld loss.\\nOptom Vis Sci . 2008;85:26–36.\\n27. Thorpe SJ, Gegenfurtner KR, Fabre-Thorpe M, B\\n¨ulthoff HH.\\nDetection of animals in natural images using far peripheral\\nvision. Eur J Neurosci . 2002;14:869–876.\\n28. Larson AM, Loschky LC. The contributions of central versus\\nperipheral vision to scene gist recognition. JV i s . 2009;9(10):\\n6.\\n29. Kwon MY , Legge GE. Spatial-frequency requirements for\\nreading revisited. Vision Res . 2012;62:139–147.\\n30. Bossuyt PM, Reitsma JB, Bruns DE, et al. Toward complete\\nand accurate reporting of studies of diagnostic accuracy: the\\nSTARD initiative. Clin Chem Lab Med . 2003;41:68–73.\\n31. Fidalgo BMR, Crabb DP , Lawrenson JG. Methodology and\\nreporting of diagnostic accuracy studies of automated\\nperimetry in glaucoma: evaluation using a standardisedapproach. Ophthalmic Physiol Opt . 2015;35:315–323.Does Glaucoma Alter Eye Movements? IOVSjJuly 2018 jVol. 59 jNo. 8 j3198\\nDownloaded from iovs.arvojournals.org on 04/19/2024', start_char_idx=None, end_char_idx=None, text_template='{metadata_str}\\n\\n{content}', metadata_template='{key}: {value}', metadata_seperator='\\n')]"
      ]
     },
     "execution_count": 14,
     "metadata": {},
     "output_type": "execute_result"
    }
   ],
   "source": [
    "documents"
   ]
  },
  {
   "cell_type": "markdown",
   "metadata": {},
   "source": [
    "**VectorStoreIndex.from_documents(...)**\n",
    "\n",
    "* **Key Function:** Creates your core searchable index.\n",
    "\n",
    "* **Input:**\n",
    "    * `documents`: List of `Document` objects generated in a previous step.\n",
    "    * `show_progress=True`:  Enables a progress bar during index creation.\n",
    "\n",
    "* **Output:**\n",
    "    * A `VectorStoreIndex` object: A specialized database for storing and querying language model-generated text embeddings.\n",
    "\n",
    "**index**\n",
    "\n",
    "* **Variable:**  Stores the created `VectorStoreIndex`. You'll use this for:\n",
    "    * Adding more documents.\n",
    "    * Searching the index using natural language.\n"
   ]
  },
  {
   "cell_type": "code",
   "execution_count": 15,
   "metadata": {},
   "outputs": [
    {
     "data": {
      "application/vnd.jupyter.widget-view+json": {
       "model_id": "5545794c7b5645d2b2ec151c96267950",
       "version_major": 2,
       "version_minor": 0
      },
      "text/plain": [
       "Parsing nodes:   0%|          | 0/10 [00:00<?, ?it/s]"
      ]
     },
     "metadata": {},
     "output_type": "display_data"
    },
    {
     "data": {
      "application/vnd.jupyter.widget-view+json": {
       "model_id": "fe04e3f32e8b468dab853566514a9cde",
       "version_major": 2,
       "version_minor": 0
      },
      "text/plain": [
       "Generating embeddings:   0%|          | 0/16 [00:00<?, ?it/s]"
      ]
     },
     "metadata": {},
     "output_type": "display_data"
    },
    {
     "data": {
      "text/plain": [
       "<llama_index.indices.vector_store.base.VectorStoreIndex at 0x13ce6661400>"
      ]
     },
     "execution_count": 15,
     "metadata": {},
     "output_type": "execute_result"
    }
   ],
   "source": [
    "index = VectorStoreIndex.from_documents(documents,show_progress=True)\n",
    "index"
   ]
  },
  {
   "cell_type": "code",
   "execution_count": 16,
   "metadata": {},
   "outputs": [],
   "source": [
    "from llama_index.retrievers import VectorIndexRetriever\n",
    "from llama_index.query_engine import RetrieverQueryEngine\n",
    "from llama_index.indices.postprocessor import SimilarityPostprocessor\n",
    "\n",
    "retriever=VectorIndexRetriever(index=index,similarity_top_k=4)\n",
    "postprocessor=SimilarityPostprocessor(similarity_cutoff=0.80)\n",
    "\n",
    "query_engine=RetrieverQueryEngine(retriever=retriever,\n",
    "                                  node_postprocessors=[postprocessor])\n"
   ]
  },
  {
   "cell_type": "code",
   "execution_count": 17,
   "metadata": {},
   "outputs": [],
   "source": [
    "response=query_engine.query(\"What is glaoucoma?\")\n"
   ]
  },
  {
   "cell_type": "code",
   "execution_count": 18,
   "metadata": {},
   "outputs": [
    {
     "name": "stdout",
     "output_type": "stream",
     "text": [
      "Final Response: Glaucoma is a condition that affects the eyes and can\n",
      "lead to altered eye movements. It is associated with changes in the\n",
      "optic nerve and can result in visual field loss.\n",
      "______________________________________________________________________\n",
      "Source Node 1/2\n",
      "Node ID: f756b226-9ea4-45d7-b9a1-b88abfeb7bdd\n",
      "Similarity: 0.8167331642355051\n",
      "Text: One possibility may be to measure a person’s natural eye\n",
      "movements. Glaucoma patients have been shown to have altered eye\n",
      "movements as compared to peers with normal vision when performing\n",
      "everyday tasks, such as reading,3–5 visual search,6face\n",
      "recognition,7watching video,8driving,9–12 and viewing images13(for a\n",
      "review, see Kasneci et al.14). Fur...\n",
      "______________________________________________________________________\n",
      "Source Node 2/2\n",
      "Node ID: 3d5f1cb5-e325-4f97-a85c-b5e7e7b4c59b\n",
      "Similarity: 0.8084063992525515\n",
      "Text: Glaucoma Does Glaucoma Alter Eye Movements When Viewing Images\n",
      "of Natural Scenes? A Between-Eye Study Daniel S. Asfaw, Pete R. Jones,\n",
      "Vera M. M¨ onter, Nicholas D. Smith, and David P . Crabb Division of\n",
      "Optometry and Visual Science, School of Health Science, City,\n",
      "University of London, London, United Kingdom Correspondence: David P .\n",
      "Crabb, Divi...\n",
      "Glaucoma is a condition that affects the eyes and can lead to altered eye movements. It is associated with changes in the optic nerve and can result in visual field loss.\n"
     ]
    }
   ],
   "source": [
    "\n",
    "from llama_index.response.pprint_utils import pprint_response\n",
    "pprint_response(response,show_source=True)\n",
    "print(response)"
   ]
  },
  {
   "cell_type": "code",
   "execution_count": 19,
   "metadata": {},
   "outputs": [
    {
     "name": "stdout",
     "output_type": "stream",
     "text": [
      "Final Response: Eye movements can potentially be used as biomarkers\n",
      "for detecting glaucoma. Studies have shown that individuals with\n",
      "glaucoma exhibit altered eye movements compared to those with normal\n",
      "vision when performing various tasks. These changes in eye movements\n",
      "have been linked to visual field loss in glaucoma patients.\n",
      "Researchers have explored measuring natural eye movements as a\n",
      "possible method to detect and monitor glaucoma, offering an\n",
      "alternative or complementary approach to traditional visual field\n",
      "assessments.\n",
      "______________________________________________________________________\n",
      "Source Node 1/4\n",
      "Node ID: f756b226-9ea4-45d7-b9a1-b88abfeb7bdd\n",
      "Similarity: 0.8765306052657766\n",
      "Text: One possibility may be to measure a person’s natural eye\n",
      "movements. Glaucoma patients have been shown to have altered eye\n",
      "movements as compared to peers with normal vision when performing\n",
      "everyday tasks, such as reading,3–5 visual search,6face\n",
      "recognition,7watching video,8driving,9–12 and viewing images13(for a\n",
      "review, see Kasneci et al.14). Fur...\n",
      "______________________________________________________________________\n",
      "Source Node 2/4\n",
      "Node ID: 3d5f1cb5-e325-4f97-a85c-b5e7e7b4c59b\n",
      "Similarity: 0.8717399909901401\n",
      "Text: Glaucoma Does Glaucoma Alter Eye Movements When Viewing Images\n",
      "of Natural Scenes? A Between-Eye Study Daniel S. Asfaw, Pete R. Jones,\n",
      "Vera M. M¨ onter, Nicholas D. Smith, and David P . Crabb Division of\n",
      "Optometry and Visual Science, School of Health Science, City,\n",
      "University of London, London, United Kingdom Correspondence: David P .\n",
      "Crabb, Divi...\n",
      "______________________________________________________________________\n",
      "Source Node 3/4\n",
      "Node ID: 6e6af3c1-6345-42a5-9640-9b2b389fec90\n",
      "Similarity: 0.8643494585953907\n",
      "Text: 6. Smith N, Glen F , Crabb D. Eye movements during visual search\n",
      "in patients with glaucoma. BMC Ophthalmol . 2012;12:45. 7. Glen FC,\n",
      "Smith ND, Crabb DP . Saccadic eye movements and face recognition\n",
      "performance in patients with centralglaucomatous visual ﬁeld defects.\n",
      "Vision Res . 2013;82:42–51. 8. Crabb DP , Smith ND, Zhu H. What’s on\n",
      "TV: detect...\n",
      "______________________________________________________________________\n",
      "Source Node 4/4\n",
      "Node ID: 487e96b8-4f95-4b4b-a1c8-d03c800ffb07\n",
      "Similarity: 0.85710976255161\n",
      "Text: Behav Res Methods . 2017;50:362–379. 21. Amor TA, Reis SDS,\n",
      "Campos D, Herrmann HJ, Andrade JS. Persistence in eye movement during\n",
      "visual search. Sci Rep . 2016;6:20815. 22. Brusini P , Filacorda S.\n",
      "Enhanced Glaucoma Staging System (GSS 2) for classifying functional\n",
      "damage in glaucoma. J Glaucoma . 2006;15:40–46. 23. Bellmann C, Feely\n",
      "M, Crosslan...\n",
      "Eye movements can potentially be used as biomarkers for detecting glaucoma. Studies have shown that individuals with glaucoma exhibit altered eye movements compared to those with normal vision when performing various tasks. These changes in eye movements have been linked to visual field loss in glaucoma patients. Researchers have explored measuring natural eye movements as a possible method to detect and monitor glaucoma, offering an alternative or complementary approach to traditional visual field assessments.\n"
     ]
    }
   ],
   "source": [
    "prompt = \"Can eye movments be used to detect gloucoma?\"\n",
    "response=query_engine.query(prompt)\n",
    "\n",
    "from llama_index.response.pprint_utils import pprint_response\n",
    "pprint_response(response,show_source=True)\n",
    "print(response)"
   ]
  }
 ],
 "metadata": {
  "kernelspec": {
   "display_name": "Python 3",
   "language": "python",
   "name": "python3"
  },
  "language_info": {
   "codemirror_mode": {
    "name": "ipython",
    "version": 3
   },
   "file_extension": ".py",
   "mimetype": "text/x-python",
   "name": "python",
   "nbconvert_exporter": "python",
   "pygments_lexer": "ipython3",
   "version": "3.9.19"
  }
 },
 "nbformat": 4,
 "nbformat_minor": 2
}
